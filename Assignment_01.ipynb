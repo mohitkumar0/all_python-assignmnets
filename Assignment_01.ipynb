{
 "cells": [
  {
   "cell_type": "code",
   "execution_count": null,
   "id": "46dd6210",
   "metadata": {},
   "outputs": [],
   "source": [
    "1. Q/Ans: \n",
    "Values are \"hello\", -87.8 and 6b\n",
    "Expressions are *, -, /, +"
   ]
  },
  {
   "cell_type": "code",
   "execution_count": null,
   "id": "e1820cee",
   "metadata": {},
   "outputs": [],
   "source": [
    "2. What is the difference between string and variable?\n",
    "Ans: A string is a sequence of characters enclosed in quotation marks (either single quotes or double quotes), \n",
    "while a variable is a named placeholder for a value that can be of any data type, including strings.\n",
    "my_string = \"Akkala Manoj Kumar\"\n",
    "my_variable = 26"
   ]
  },
  {
   "cell_type": "code",
   "execution_count": null,
   "id": "644f296b",
   "metadata": {},
   "outputs": [],
   "source": [
    "3. Describe three different data types.\n",
    "Ans: Below are the commonly used data types:\n",
    "String, Integer, Float, Boolean\n",
    "----------------------------------------------------------------------------------------------------------\n",
    "String:\n",
    "A String is a stream of characters enclosed within quotes.\n",
    "Stream of Characters\n",
    "Some Examples are \"Hello World!\", \"some@example.com\", \"1234\"\n",
    "----------------------------------------------------------------------------------------------------------\n",
    "Integer:\n",
    "All whole numbers (positive, negative and zero) without any fractional part come under Integers.\n",
    "Examples are -3, -2, -1, 0, 1, 2, 3,...\n",
    "----------------------------------------------------------------------------------------------------------\n",
    "Float:\n",
    "Any number with a decimal point\n",
    "Examples are 24.3, 345.210, -321.86\n",
    "---------------------------------------------------------------------------------------------------------"
   ]
  },
  {
   "cell_type": "code",
   "execution_count": null,
   "id": "21006917",
   "metadata": {},
   "outputs": [],
   "source": [
    "4. What is an expression made up of? What do all expressions do?\n",
    "Ans: A combination of operands and operators is called an expression. \n",
    "The expression in Python produces some value or result after being interpreted by the Python interpreter. \n",
    "\n",
    "An example of expression can be : \n",
    "x=x+10, In this expression, the first 10 is added to the variable x. \n",
    "After the addition is performed, the result is assigned to the variable x.\n"
   ]
  },
  {
   "cell_type": "code",
   "execution_count": null,
   "id": "117749b2",
   "metadata": {},
   "outputs": [],
   "source": [
    "5. This assignment statements, like spam = 10. What is the difference between an\n",
    "    expression and a statement?\n",
    "    Ans:An expression in Python is very different from statements in Python. \n",
    "    The expression in Python produces some value or result after being interpreted \n",
    "    by the Python interpreter. \n",
    "\n",
    "     A statement is not evaluated for some results.\n",
    "     A statement is used for creating variables or for displaying values.\n",
    "    \n",
    "    Example : x = 25      # a statement\n",
    "              x = x + 10      # an expression"
   ]
  },
  {
   "cell_type": "code",
   "execution_count": 6,
   "id": "ed33e3e2",
   "metadata": {},
   "outputs": [
    {
     "data": {
      "text/plain": [
       "23"
      ]
     },
     "execution_count": 6,
     "metadata": {},
     "output_type": "execute_result"
    }
   ],
   "source": [
    "#6. After running the following code, what does the variable bacon contain?\n",
    "bacon = 22\n",
    "bacon + 1"
   ]
  },
  {
   "cell_type": "code",
   "execution_count": 13,
   "id": "4e1392a2",
   "metadata": {},
   "outputs": [
    {
     "data": {
      "text/plain": [
       "'spamspamspaM'"
      ]
     },
     "execution_count": 13,
     "metadata": {},
     "output_type": "execute_result"
    }
   ],
   "source": [
    "#7. What should the values of the following two terms be?\n",
    "'spam' + 'spamspaM'"
   ]
  },
  {
   "cell_type": "code",
   "execution_count": 14,
   "id": "def36973",
   "metadata": {},
   "outputs": [
    {
     "data": {
      "text/plain": [
       "'spAmspAmspAm'"
      ]
     },
     "execution_count": 14,
     "metadata": {},
     "output_type": "execute_result"
    }
   ],
   "source": [
    "'spAm'*3"
   ]
  },
  {
   "cell_type": "code",
   "execution_count": null,
   "id": "3b0bcbf9",
   "metadata": {},
   "outputs": [],
   "source": [
    "8. Why is eggs a valid variable name while 100 is invalid? \n",
    "Ans: Because variable names cannot begin with a number.\n",
    "    Officially, variable names in Python can be any length and can consist of uppercase and \n",
    "    lowercase letters ( A-Z , a-z ), digits ( 0-9 ), and the underscore character ( _ ). \n",
    "    \n",
    "    An additional restriction is that, although a variable name can contain digits, \n",
    "    the first character of a variable name cannot be a digit."
   ]
  },
  {
   "cell_type": "code",
   "execution_count": null,
   "id": "c2f02e80",
   "metadata": {},
   "outputs": [],
   "source": [
    "9. What three functions can be used to get the integer, floating-point number, or string\n",
    "version of a value?\n",
    "Ans: The int(), float(), and str() functions \n",
    "    will evaluate to the integer, floating-point number, and string versions of the value passed to them.\n",
    "    "
   ]
  },
  {
   "cell_type": "code",
   "execution_count": null,
   "id": "63eef24d",
   "metadata": {},
   "outputs": [],
   "source": [
    "10. 10. Why does this expression cause an error? How can you fix it?\n",
    "'I have eaten ' + 99 + 'burritos.'\n",
    "\n",
    "Ans: The expression causes an error because 99 is an integer, and only strings can be concatenated \n",
    "     to other strings with the + operator. The correct way is I have eaten ' + str(99) + ' burritos. '."
   ]
  },
  {
   "cell_type": "code",
   "execution_count": null,
   "id": "5c9079a5",
   "metadata": {},
   "outputs": [],
   "source": []
  }
 ],
 "metadata": {
  "kernelspec": {
   "display_name": "Python 3 (ipykernel)",
   "language": "python",
   "name": "python3"
  },
  "language_info": {
   "codemirror_mode": {
    "name": "ipython",
    "version": 3
   },
   "file_extension": ".py",
   "mimetype": "text/x-python",
   "name": "python",
   "nbconvert_exporter": "python",
   "pygments_lexer": "ipython3",
   "version": "3.10.9"
  }
 },
 "nbformat": 4,
 "nbformat_minor": 5
}
